import random
fortune_number = random.randint(1,100)

fortune_text = ''
fortune_text = random.randint(1,3)
if fortune_text ==1:
  fortune_text = 'every thing will be alright'
if fortune_text ==2:
  fortune_text= 'you will be loved'
if fortune_text ==3:
  fortune_text='its alright tobe alone'
print(f"{fortune_text}!!, your lucky number is :{fortune_number}")