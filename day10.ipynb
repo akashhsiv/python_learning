{
 "cells": [
  {
   "cell_type": "code",
   "execution_count": 21,
   "metadata": {},
   "outputs": [
    {
     "name": "stdout",
     "output_type": "stream",
     "text": [
      "hii\n"
     ]
    }
   ],
   "source": [
    "print(\"hii\")"
   ]
  },
  {
   "cell_type": "code",
   "execution_count": 22,
   "metadata": {},
   "outputs": [
    {
     "name": "stdout",
     "output_type": "stream",
     "text": [
      "\n",
      "key: username\n",
      "value: efermi\n",
      "\n",
      "key: first\n",
      "value: enrico\n",
      "\n",
      "key: last\n",
      "value: fermi\n"
     ]
    }
   ],
   "source": [
    "user_0 = {\n",
    "       'username': 'efermi',\n",
    "       'first': 'enrico',\n",
    "       'last': 'fermi',\n",
    "}\n",
    "for key, value in user_0.items():\n",
    "    print(f\"\\nkey: {key}\")\n",
    "    print(f\"value: {value}\")"
   ]
  },
  {
   "cell_type": "code",
   "execution_count": 23,
   "metadata": {},
   "outputs": [
    {
     "name": "stdout",
     "output_type": "stream",
     "text": [
      "Jen's favorite language is Python.\n",
      "Sarsh's favorite language is C.\n",
      "Ash's favorite language is Html.\n"
     ]
    }
   ],
   "source": [
    "favorite_language ={\n",
    "    'jen': 'python',\n",
    "    'sarsh': 'c',\n",
    "    'ash': 'html'\n",
    "}\n",
    "for name, language in favorite_language. items():\n",
    "    print(f\"{name.title()}'s favorite language is {language.title()}.\")\n",
    "     "
   ]
  },
  {
   "cell_type": "code",
   "execution_count": 24,
   "metadata": {},
   "outputs": [
    {
     "name": "stdout",
     "output_type": "stream",
     "text": [
      "JEN\n",
      "SARA\n",
      "ASH\n",
      "PREM\n"
     ]
    }
   ],
   "source": [
    "favorite_language ={\n",
    "    'jen': 'c',\n",
    "    'sara': 'python',\n",
    "    'ash': 'java',\n",
    "    'prem': 'html'\n",
    "}\n",
    "for name in favorite_language.keys():\n",
    "    print(name.upper())"
   ]
  },
  {
   "cell_type": "code",
   "execution_count": 25,
   "metadata": {},
   "outputs": [
    {
     "name": "stdout",
     "output_type": "stream",
     "text": [
      "hi Jen.\n",
      "hi Sara.\n",
      "\tSara, ohh i  see you love the C.\n",
      "hi Ash.\n",
      "hi Phil.\n",
      "\tPhil, ohh i  see you love the Ruby.\n"
     ]
    }
   ],
   "source": [
    "favorite_language ={\n",
    "    'jen': 'python',\n",
    "    'sara': 'c',\n",
    "    'ash': 'html',\n",
    "    'phil': 'ruby'\n",
    "}\n",
    "friends = ['phil', 'sara']\n",
    "for name in favorite_language.keys():\n",
    "    print(f\"hi {name.title()}.\")\n",
    "    if name in friends:\n",
    "        language = favorite_language [name].title()\n",
    "        print(f\"\\t{name.title()}, ohh i  see you love the {language}.\")"
   ]
  },
  {
   "cell_type": "code",
   "execution_count": 26,
   "metadata": {},
   "outputs": [
    {
     "name": "stdout",
     "output_type": "stream",
     "text": [
      "erin please take poll!\n"
     ]
    }
   ],
   "source": [
    "favorite_language ={\n",
    "    'jen': 'c',\n",
    "    'ash': 'python',\n",
    "    'sara': 'go',\n",
    "    'prem': 'html'\n",
    "}\n",
    "if'erin' not in favorite_language.keys():\n",
    "   print(\"erin please take poll!\")  \n",
    "\n"
   ]
  },
  {
   "cell_type": "code",
   "execution_count": 27,
   "metadata": {},
   "outputs": [
    {
     "name": "stdout",
     "output_type": "stream",
     "text": [
      "Ash, thank you  for taking this poll\n",
      "Ruby, thank you  for taking this poll\n",
      "Pant, thank you  for taking this poll\n",
      "Phile, thank you  for taking this poll\n"
     ]
    }
   ],
   "source": [
    "favorite_language = {\n",
    "    'ash': 'python',\n",
    "    'ruby': 'c',\n",
    "    'pant': 'java',\n",
    "    'phile': 'html'\n",
    "}\n",
    "for name in favorite_language. keys():\n",
    "    print(f\"{name.title()}, thank you  for taking this poll\")"
   ]
  },
  {
   "cell_type": "code",
   "execution_count": 28,
   "metadata": {},
   "outputs": [
    {
     "name": "stdout",
     "output_type": "stream",
     "text": [
      "the following languages have been mentioned:\n",
      "C\n",
      "Java\n",
      "Python\n",
      "Html\n",
      "Java Script\n"
     ]
    }
   ],
   "source": [
    "favorite_language ={\n",
    "    'jen': 'c',\n",
    "    'ash': 'java',\n",
    "    'sara': 'python',\n",
    "    'sae': 'html',\n",
    "    'rin': 'java script'\n",
    "}\n",
    "print(\"the following languages have been mentioned:\")\n",
    "for language in favorite_language. values():\n",
    "    print(language.title())"
   ]
  },
  {
   "cell_type": "code",
   "execution_count": 48,
   "metadata": {},
   "outputs": [
    {
     "name": "stdout",
     "output_type": "stream",
     "text": [
      "the following language have been mentioned:\n",
      "Java\n",
      "C++\n",
      "Python\n"
     ]
    }
   ],
   "source": [
    "favorite_language= {\n",
    "    'ash': 'java',\n",
    "    'rin': 'c++',\n",
    "     'sae': 'python'\n",
    "}\n",
    "print(\"the following language have been mentioned:\")\n",
    "for language in set (favorite_language.values()):\n",
    "    print(language.title())\n"
   ]
  },
  {
   "cell_type": "code",
   "execution_count": 52,
   "metadata": {},
   "outputs": [
    {
     "name": "stdout",
     "output_type": "stream",
     "text": [
      "{'color': 'yellow', 'points': 5}\n",
      "{'color': 'red', 'points': 8}\n",
      "{'color': 'orange', 'points': 10}\n"
     ]
    }
   ],
   "source": [
    "alien_0= {'color': 'yellow', 'points' : 5}\n",
    "alien_1 = {'color':'red' , 'points' :8}\n",
    "alien_2 = {'color':'orange','points':10}\n",
    "aliens = [alien_0, alien_1,alien_2]\n",
    "for alien in aliens:\n",
    "     print(alien)\n",
    "                      "
   ]
  },
  {
   "cell_type": "code",
   "execution_count": 70,
   "metadata": {},
   "outputs": [
    {
     "name": "stdout",
     "output_type": "stream",
     "text": [
      "{'color': 'green', 'points': 5, 'speed': 'slow'}\n",
      "{'color': 'green', 'points': 5, 'speed': 'slow'}\n",
      "{'color': 'green', 'points': 5, 'speed': 'slow'}\n",
      "{'color': 'green', 'points': 5, 'speed': 'slow'}\n",
      "{'color': 'green', 'points': 5, 'speed': 'slow'}\n",
      "{'color': 'green', 'points': 5, 'speed': 'slow'}\n",
      "{'color': 'green', 'points': 5, 'speed': 'slow'}\n",
      "{'color': 'green', 'points': 5, 'speed': 'slow'}\n",
      "{'color': 'green', 'points': 5, 'speed': 'slow'}\n",
      "{'color': 'green', 'points': 5, 'speed': 'slow'}\n",
      "{'color': 'green', 'points': 5, 'speed': 'slow'}\n",
      "{'color': 'green', 'points': 5, 'speed': 'slow'}\n",
      "{'color': 'green', 'points': 5, 'speed': 'slow'}\n",
      "{'color': 'green', 'points': 5, 'speed': 'slow'}\n",
      "{'color': 'green', 'points': 5, 'speed': 'slow'}\n",
      "{'color': 'green', 'points': 5, 'speed': 'slow'}\n",
      "{'color': 'green', 'points': 5, 'speed': 'slow'}\n",
      "{'color': 'green', 'points': 5, 'speed': 'slow'}\n",
      "{'color': 'green', 'points': 5, 'speed': 'slow'}\n",
      "{'color': 'green', 'points': 5, 'speed': 'slow'}\n",
      "{'color': 'green', 'points': 5, 'speed': 'slow'}\n",
      "{'color': 'green', 'points': 5, 'speed': 'slow'}\n",
      "{'color': 'green', 'points': 5, 'speed': 'slow'}\n",
      "{'color': 'green', 'points': 5, 'speed': 'slow'}\n",
      "{'color': 'green', 'points': 5, 'speed': 'slow'}\n",
      "{'color': 'green', 'points': 5, 'speed': 'slow'}\n",
      "{'color': 'green', 'points': 5, 'speed': 'slow'}\n",
      "{'color': 'green', 'points': 5, 'speed': 'slow'}\n",
      "{'color': 'green', 'points': 5, 'speed': 'slow'}\n",
      "{'color': 'green', 'points': 5, 'speed': 'slow'}\n",
      "{'color': 'green', 'points': 5, 'speed': 'slow'}\n",
      "{'color': 'green', 'points': 5, 'speed': 'slow'}\n",
      "{'color': 'green', 'points': 5, 'speed': 'slow'}\n",
      "{'color': 'green', 'points': 5, 'speed': 'slow'}\n",
      "{'color': 'green', 'points': 5, 'speed': 'slow'}\n",
      "{'color': 'green', 'points': 5, 'speed': 'slow'}\n",
      "{'color': 'green', 'points': 5, 'speed': 'slow'}\n",
      "{'color': 'green', 'points': 5, 'speed': 'slow'}\n",
      "{'color': 'green', 'points': 5, 'speed': 'slow'}\n",
      "{'color': 'green', 'points': 5, 'speed': 'slow'}\n",
      "{'color': 'green', 'points': 5, 'speed': 'slow'}\n",
      "{'color': 'green', 'points': 5, 'speed': 'slow'}\n",
      "{'color': 'green', 'points': 5, 'speed': 'slow'}\n",
      "{'color': 'green', 'points': 5, 'speed': 'slow'}\n",
      "{'color': 'green', 'points': 5, 'speed': 'slow'}\n",
      "{'color': 'green', 'points': 5, 'speed': 'slow'}\n",
      "{'color': 'green', 'points': 5, 'speed': 'slow'}\n",
      "{'color': 'green', 'points': 5, 'speed': 'slow'}\n",
      "{'color': 'green', 'points': 5, 'speed': 'slow'}\n",
      "{'color': 'green', 'points': 5, 'speed': 'slow'}\n",
      "{'color': 'green', 'points': 5, 'speed': 'slow'}\n",
      "{'color': 'green', 'points': 5, 'speed': 'slow'}\n",
      "{'color': 'green', 'points': 5, 'speed': 'slow'}\n",
      "{'color': 'green', 'points': 5, 'speed': 'slow'}\n",
      "{'color': 'green', 'points': 5, 'speed': 'slow'}\n",
      "{'color': 'green', 'points': 5, 'speed': 'slow'}\n",
      "{'color': 'green', 'points': 5, 'speed': 'slow'}\n",
      "{'color': 'green', 'points': 5, 'speed': 'slow'}\n",
      "{'color': 'green', 'points': 5, 'speed': 'slow'}\n",
      "{'color': 'green', 'points': 5, 'speed': 'slow'}\n",
      "{'color': 'green', 'points': 5, 'speed': 'slow'}\n",
      "{'color': 'green', 'points': 5, 'speed': 'slow'}\n",
      "{'color': 'green', 'points': 5, 'speed': 'slow'}\n",
      "{'color': 'green', 'points': 5, 'speed': 'slow'}\n",
      "{'color': 'green', 'points': 5, 'speed': 'slow'}\n",
      "{'color': 'green', 'points': 5, 'speed': 'slow'}\n",
      "{'color': 'green', 'points': 5, 'speed': 'slow'}\n",
      "{'color': 'green', 'points': 5, 'speed': 'slow'}\n",
      "{'color': 'green', 'points': 5, 'speed': 'slow'}\n",
      "{'color': 'green', 'points': 5, 'speed': 'slow'}\n",
      "{'color': 'green', 'points': 5, 'speed': 'slow'}\n",
      "{'color': 'green', 'points': 5, 'speed': 'slow'}\n",
      "{'color': 'green', 'points': 5, 'speed': 'slow'}\n",
      "{'color': 'green', 'points': 5, 'speed': 'slow'}\n",
      "{'color': 'green', 'points': 5, 'speed': 'slow'}\n",
      "{'color': 'green', 'points': 5, 'speed': 'slow'}\n",
      "{'color': 'green', 'points': 5, 'speed': 'slow'}\n",
      "{'color': 'green', 'points': 5, 'speed': 'slow'}\n",
      "{'color': 'green', 'points': 5, 'speed': 'slow'}\n",
      "{'color': 'green', 'points': 5, 'speed': 'slow'}\n",
      "{'color': 'green', 'points': 5, 'speed': 'slow'}\n",
      "{'color': 'green', 'points': 5, 'speed': 'slow'}\n",
      "{'color': 'green', 'points': 5, 'speed': 'slow'}\n",
      "{'color': 'green', 'points': 5, 'speed': 'slow'}\n",
      "{'color': 'green', 'points': 5, 'speed': 'slow'}\n",
      "{'color': 'green', 'points': 5, 'speed': 'slow'}\n",
      "{'color': 'green', 'points': 5, 'speed': 'slow'}\n",
      "{'color': 'green', 'points': 5, 'speed': 'slow'}\n",
      "{'color': 'green', 'points': 5, 'speed': 'slow'}\n",
      "{'color': 'green', 'points': 5, 'speed': 'slow'}\n",
      "{'color': 'green', 'points': 5, 'speed': 'slow'}\n",
      "{'color': 'green', 'points': 5, 'speed': 'slow'}\n",
      "{'color': 'green', 'points': 5, 'speed': 'slow'}\n",
      "{'color': 'green', 'points': 5, 'speed': 'slow'}\n",
      "{'color': 'green', 'points': 5, 'speed': 'slow'}\n",
      "{'color': 'green', 'points': 5, 'speed': 'slow'}\n",
      "{'color': 'green', 'points': 5, 'speed': 'slow'}\n",
      "{'color': 'green', 'points': 5, 'speed': 'slow'}\n",
      "{'color': 'green', 'points': 5, 'speed': 'slow'}\n",
      "{'color': 'green', 'points': 5, 'speed': 'slow'}\n",
      "{'color': 'green', 'points': 5, 'speed': 'slow'}\n",
      "{'color': 'green', 'points': 5, 'speed': 'slow'}\n",
      "{'color': 'green', 'points': 5, 'speed': 'slow'}\n",
      "{'color': 'green', 'points': 5, 'speed': 'slow'}\n",
      "{'color': 'green', 'points': 5, 'speed': 'slow'}\n",
      "{'color': 'green', 'points': 5, 'speed': 'slow'}\n",
      "{'color': 'green', 'points': 5, 'speed': 'slow'}\n",
      "{'color': 'green', 'points': 5, 'speed': 'slow'}\n",
      "{'color': 'green', 'points': 5, 'speed': 'slow'}\n",
      "{'color': 'green', 'points': 5, 'speed': 'slow'}\n",
      "{'color': 'green', 'points': 5, 'speed': 'slow'}\n",
      "{'color': 'green', 'points': 5, 'speed': 'slow'}\n",
      "{'color': 'green', 'points': 5, 'speed': 'slow'}\n",
      "{'color': 'green', 'points': 5, 'speed': 'slow'}\n",
      "{'color': 'green', 'points': 5, 'speed': 'slow'}\n",
      "{'color': 'green', 'points': 5, 'speed': 'slow'}\n",
      "{'color': 'green', 'points': 5, 'speed': 'slow'}\n",
      "{'color': 'green', 'points': 5, 'speed': 'slow'}\n",
      "{'color': 'green', 'points': 5, 'speed': 'slow'}\n",
      "{'color': 'green', 'points': 5, 'speed': 'slow'}\n",
      "{'color': 'green', 'points': 5, 'speed': 'slow'}\n",
      "{'color': 'green', 'points': 5, 'speed': 'slow'}\n",
      "{'color': 'green', 'points': 5, 'speed': 'slow'}\n",
      "{'color': 'green', 'points': 5, 'speed': 'slow'}\n",
      "{'color': 'green', 'points': 5, 'speed': 'slow'}\n",
      "{'color': 'green', 'points': 5, 'speed': 'slow'}\n",
      "{'color': 'green', 'points': 5, 'speed': 'slow'}\n",
      "{'color': 'green', 'points': 5, 'speed': 'slow'}\n",
      "{'color': 'green', 'points': 5, 'speed': 'slow'}\n",
      "{'color': 'green', 'points': 5, 'speed': 'slow'}\n",
      "{'color': 'green', 'points': 5, 'speed': 'slow'}\n",
      "{'color': 'green', 'points': 5, 'speed': 'slow'}\n",
      "{'color': 'green', 'points': 5, 'speed': 'slow'}\n",
      "{'color': 'green', 'points': 5, 'speed': 'slow'}\n",
      "{'color': 'green', 'points': 5, 'speed': 'slow'}\n",
      "{'color': 'green', 'points': 5, 'speed': 'slow'}\n",
      "{'color': 'green', 'points': 5, 'speed': 'slow'}\n",
      "{'color': 'green', 'points': 5, 'speed': 'slow'}\n",
      "{'color': 'green', 'points': 5, 'speed': 'slow'}\n",
      "{'color': 'green', 'points': 5, 'speed': 'slow'}\n",
      "...\n",
      "total number of aliens: 30\n"
     ]
    }
   ],
   "source": [
    "#make an empty list for storing aliens.\n",
    "aliens =[]\n",
    "#make 30 green aliens.\n",
    "for alien_number in range(30):\n",
    "    new_alien= {'color': 'green','points':5, 'speed':'slow'}\n",
    "    aliens.append(new_alien)\n",
    "#show first 5 aliens\n",
    "    for alien in aliens[:5]:\n",
    "        print(alien)\n",
    "        \n",
    "print(\"...\")\n",
    "#show how many aliens have been created\n",
    "print(f\"total number of aliens: {len(aliens)}\")"
   ]
  },
  {
   "cell_type": "code",
   "execution_count": 75,
   "metadata": {},
   "outputs": [
    {
     "name": "stdout",
     "output_type": "stream",
     "text": [
      "{'color': 'green', 'points': 5, 'speed': 'slow'}\n",
      "...\n",
      "{'color': 'green', 'points': 5, 'speed': 'slow'}\n",
      "...\n",
      "{'color': 'green', 'points': 5, 'speed': 'slow'}\n",
      "...\n",
      "{'color': 'green', 'points': 5, 'speed': 'slow'}\n",
      "...\n",
      "{'color': 'green', 'points': 5, 'speed': 'slow'}\n",
      "...\n",
      "total number of aliens:30\n"
     ]
    }
   ],
   "source": [
    "#make an empty list for storing aliens.\n",
    "aliens =[]\n",
    "#make 30 green aliens.\n",
    "for alien_number in range(30):\n",
    "    new_aliens = {'color': 'green', 'points': 10, 'speed':'slow'}\n",
    "    aliens.append(new_alien)\n",
    "    #show the first 5 aliens\n",
    "for alien in aliens[:5]:\n",
    "    print(alien)\n",
    "    print(\"...\")\n",
    "\n",
    "    #show how many aliens have been created.\n",
    "print(f\"total number of aliens:{len(aliens)}\")"
   ]
  },
  {
   "cell_type": "code",
   "execution_count": null,
   "metadata": {},
   "outputs": [],
   "source": []
  },
  {
   "cell_type": "markdown",
   "metadata": {},
   "source": []
  },
  {
   "cell_type": "code",
   "execution_count": null,
   "metadata": {},
   "outputs": [],
   "source": []
  },
  {
   "cell_type": "code",
   "execution_count": null,
   "metadata": {},
   "outputs": [],
   "source": []
  },
  {
   "cell_type": "code",
   "execution_count": null,
   "metadata": {},
   "outputs": [],
   "source": []
  },
  {
   "cell_type": "code",
   "execution_count": null,
   "metadata": {},
   "outputs": [],
   "source": []
  },
  {
   "cell_type": "code",
   "execution_count": null,
   "metadata": {},
   "outputs": [],
   "source": []
  },
  {
   "cell_type": "code",
   "execution_count": null,
   "metadata": {},
   "outputs": [],
   "source": []
  },
  {
   "cell_type": "code",
   "execution_count": 30,
   "metadata": {},
   "outputs": [
    {
     "name": "stdout",
     "output_type": "stream",
     "text": [
      "adding cheese.\n",
      "sorry, we are out of pepper now !\n",
      "adding mushroom.\n",
      "\n",
      " finished making your pizza!\n"
     ]
    }
   ],
   "source": [
    "requested_toppings = ['cheese','pepper','mushroom']\n",
    "for requested_topping in requested_toppings:\n",
    "    if requested_topping =='pepper':\n",
    "        print('sorry, we are out of pepper now !')\n",
    "    else:\n",
    "        print(f\"adding {requested_topping}.\")\n",
    "print('\\n finished making your pizza!')"
   ]
  },
  {
   "cell_type": "code",
   "execution_count": 31,
   "metadata": {},
   "outputs": [
    {
     "name": "stdout",
     "output_type": "stream",
     "text": [
      "addingmushroom.\n",
      "addinggreen peppers.\n",
      "addingextra cheese.\n",
      "\n",
      " finished making your pizza\n"
     ]
    }
   ],
   "source": [
    "requested_toppings = ('mushroom', 'green peppers', 'extra cheese')\n",
    "for requested_topping in requested_toppings:\n",
    "     print(f\"adding{requested_topping}.\")\n",
    "print(\"\\n finished making your pizza\")\n",
    "        "
   ]
  },
  {
   "cell_type": "markdown",
   "metadata": {},
   "source": []
  },
  {
   "cell_type": "code",
   "execution_count": 32,
   "metadata": {},
   "outputs": [
    {
     "name": "stdout",
     "output_type": "stream",
     "text": [
      "are you sure you want a plain pizza \n"
     ]
    }
   ],
   "source": [
    "requested_topping = {}\n",
    "if requested_topping :\n",
    "    for requested_topping in requested_toppings:\n",
    "        print(f\"adding{requested_topping}\")\n",
    "    print(\"\\nfinished making your pizza\")\n",
    "else:\n",
    "    print(\"are you sure you want a plain pizza \")"
   ]
  },
  {
   "cell_type": "code",
   "execution_count": 33,
   "metadata": {},
   "outputs": [
    {
     "name": "stdout",
     "output_type": "stream",
     "text": [
      "adding cheese\n",
      "adding meat\n",
      "sorry we are out of beaf\n",
      "\n",
      "finished making your pizza\n"
     ]
    }
   ],
   "source": [
    "available_toppings = ['cheese', 'meat', 'pepeprs', 'olive', 'mushroooms', 'frenchfries']\n",
    "requested_toppings =['cheese', 'meat','beaf']\n",
    "for requested_topping in requested_toppings:\n",
    "    if requested_topping in available_toppings:\n",
    "        print(f\"adding {requested_topping}\")\n",
    "    else:\n",
    "         print(f'sorry we are out of {requested_topping}')\n",
    "print(\"\\nfinished making your pizza\")"
   ]
  },
  {
   "cell_type": "code",
   "execution_count": 34,
   "metadata": {},
   "outputs": [
    {
     "name": "stdout",
     "output_type": "stream",
     "text": [
      "green\n",
      "5\n"
     ]
    }
   ],
   "source": [
    "alien_0 = {'color': 'green', 'points': 5}\n",
    "print(alien_0['color'])\n",
    "print(alien_0['points'])"
   ]
  },
  {
   "cell_type": "code",
   "execution_count": 35,
   "metadata": {},
   "outputs": [
    {
     "name": "stdout",
     "output_type": "stream",
     "text": [
      "you earned 7 congratulations\n"
     ]
    }
   ],
   "source": [
    "#accesing value in dictionary\n",
    "alien_0 = {'color': 'green', 'points': 7}\n",
    "new_points = alien_0['points']\n",
    "print(f\"you earned {new_points} congratulations\")"
   ]
  },
  {
   "cell_type": "code",
   "execution_count": 36,
   "metadata": {},
   "outputs": [
    {
     "name": "stdout",
     "output_type": "stream",
     "text": [
      "{'color': 'green', 'points': 7}\n",
      "{'color': 'green', 'points': 7, 'x-position': 0, 'y_position': 20}\n"
     ]
    }
   ],
   "source": [
    "alien_0 = {'color': 'green', 'points': 7}\n",
    "print(alien_0)\n",
    "alien_0['x-position']=0\n",
    "alien_0['y_position']=20\n",
    "print(alien_0)"
   ]
  },
  {
   "cell_type": "code",
   "execution_count": 37,
   "metadata": {},
   "outputs": [
    {
     "name": "stdout",
     "output_type": "stream",
     "text": [
      "{'colour': 'green', 'points': 5}\n"
     ]
    }
   ],
   "source": [
    "alien_0 ={}\n",
    "alien_0['colour'] = 'green'\n",
    "alien_0['points'] = 5\n",
    "print(alien_0)"
   ]
  },
  {
   "cell_type": "code",
   "execution_count": 38,
   "metadata": {},
   "outputs": [
    {
     "name": "stdout",
     "output_type": "stream",
     "text": [
      " the alien is green.\n",
      "the alien is colour is leveled upto yellow\n"
     ]
    }
   ],
   "source": [
    "alien_0 = {'color': 'green'}\n",
    "print(f\" the alien is {alien_0['color']}.\")\n",
    "alien_0['color'] = 'yellow'\n",
    "print(f\"the alien is colour is leveled upto {alien_0['color']}\")"
   ]
  },
  {
   "cell_type": "code",
   "execution_count": 39,
   "metadata": {},
   "outputs": [
    {
     "name": "stdout",
     "output_type": "stream",
     "text": [
      "original x_position : 0\n",
      "new x_position: 2\n"
     ]
    }
   ],
   "source": [
    "#modifying under dictionary\n",
    "alien_0= {'x_position': 0, 'y_position': 25, 'speed': 'medium'}\n",
    "print(f\"original x_position : {alien_0['x_position']}\")\n",
    "#move the alien to the right\n",
    "#determine how far to move the alien based on its current speed.\n",
    "if alien_0['speed'] == 'slow':\n",
    "    x_increment = 1\n",
    "elif alien_0['speed'] == 'medium':\n",
    "    x_increment = 2\n",
    "else:\n",
    "    #this must be fast alien.\n",
    "    x_increment = 3\n",
    "#the new position is the old positon plus the increment.\n",
    "alien_0['x_position'] = alien_0['x_position'] + x_increment\n",
    "print(f\"new x_position: {alien_0['x_position']}\")"
   ]
  },
  {
   "cell_type": "code",
   "execution_count": 40,
   "metadata": {},
   "outputs": [
    {
     "name": "stdout",
     "output_type": "stream",
     "text": [
      "{'color': 'green', 'points': 7}\n",
      "{'color': 'green'}\n"
     ]
    }
   ],
   "source": [
    "alien_0 = {'color': 'green', 'points':7}\n",
    "print(alien_0)\n",
    "del alien_0['points']\n",
    "print(alien_0)"
   ]
  },
  {
   "cell_type": "code",
   "execution_count": 41,
   "metadata": {},
   "outputs": [
    {
     "name": "stdout",
     "output_type": "stream",
     "text": [
      " sara's favorite batsman is WARNER\n"
     ]
    }
   ],
   "source": [
    "favorite_batsmans = {'jen': 'virat',\n",
    "    'sara':'warner',\n",
    "    'ruby':'pant',\n",
    "    'viky':'rohit',\n",
    "    'akash':'smith'}\n",
    "batsman = favorite_batsmans['sara'].upper()\n",
    "print(f\" sara's favorite batsman is {batsman}\")\n"
   ]
  },
  {
   "cell_type": "code",
   "execution_count": 42,
   "metadata": {},
   "outputs": [
    {
     "name": "stdout",
     "output_type": "stream",
     "text": [
      "9\n"
     ]
    }
   ],
   "source": [
    "alien_0 = {'color':'green', 'speed': 'slow', 'points':9}\n",
    "point_value = alien_0.get ('points', 'no points assigned.')\n",
    "print(point_value)"
   ]
  },
  {
   "cell_type": "code",
   "execution_count": 43,
   "metadata": {},
   "outputs": [
    {
     "name": "stdout",
     "output_type": "stream",
     "text": [
      "\n",
      "key: users name\n",
      "value: ash\n",
      "\n",
      "key: first\n",
      "value:  ak\n",
      "\n",
      "key: last\n",
      "value: ash\n"
     ]
    }
   ],
   "source": [
    "user_0 ={\n",
    "    'users name': 'ash',\n",
    "    'first':' ak',\n",
    "    'last':'ash'\n",
    "    }\n",
    "for key, value in user_0 .items():\n",
    "    print(f\"\\nkey: {key}\")\n",
    "    print(f\"value: {value}\")\n"
   ]
  },
  {
   "cell_type": "code",
   "execution_count": null,
   "metadata": {},
   "outputs": [],
   "source": []
  },
  {
   "cell_type": "code",
   "execution_count": 44,
   "metadata": {},
   "outputs": [
    {
     "name": "stdout",
     "output_type": "stream",
     "text": [
      "Kumar's favorite ipl team is MI!\n",
      "Karthi's favorite ipl team is CSK!\n",
      "Kavya's favorite ipl team is RCB!\n",
      "Pant's favorite ipl team is DC!\n",
      "Sai's favorite ipl team is GT!\n"
     ]
    }
   ],
   "source": [
    "favorite_teams = {\n",
    "    'kumar':'mi',\n",
    "    'karthi': 'csk',\n",
    "    'kavya':'rcb',\n",
    "    'pant':'dc',\n",
    "    'sai':'gt'\n",
    "}\n",
    "for name , team in favorite_teams.items():\n",
    "     print(f\"{name.title()}'s favorite ipl team is {team.upper()}!\")"
   ]
  },
  {
   "cell_type": "code",
   "execution_count": 45,
   "metadata": {},
   "outputs": [
    {
     "name": "stdout",
     "output_type": "stream",
     "text": [
      "KUMAR\n",
      "KARTHI\n",
      "KAVYA\n",
      "PANT\n",
      "SAI\n"
     ]
    }
   ],
   "source": [
    "favorite_teams = {\n",
    "    'kumar': 'mi',\n",
    "    'karthi': 'csk',\n",
    "    'kavya': 'rcb',\n",
    "    'pant': 'dc',\n",
    "    'sai': 'gt'\n",
    "}\n",
    "for name in favorite_teams:\n",
    "    print(name.upper())"
   ]
  },
  {
   "cell_type": "code",
   "execution_count": null,
   "metadata": {},
   "outputs": [],
   "source": []
  },
  {
   "cell_type": "code",
   "execution_count": 46,
   "metadata": {},
   "outputs": [
    {
     "name": "stdout",
     "output_type": "stream",
     "text": [
      "hi Kumar.\n",
      "\tKumar, i see you love mi!\n",
      "hi Karthi.\n",
      "hi Kavya.\n",
      "\tKavya, i see you love rcb!\n",
      "hi Pant.\n",
      "hi Sai.\n"
     ]
    }
   ],
   "source": [
    "favorite_teams ={\n",
    "    'kumar':'mi',\n",
    "    'karthi': 'csk',\n",
    "    'kavya':'rcb',\n",
    "    'pant':'dc',\n",
    "    'sai':'gt'\n",
    "    }\n",
    "friends = ['kavya','kumar']\n",
    "for name in favorite_teams.keys():\n",
    "    print(f\"hi {name.title()}.\")\n",
    "    if name in friends:\n",
    "        team = favorite_teams[name]\n",
    "        print(f\"\\t{name.title()}, i see you love {team}!\")"
   ]
  },
  {
   "cell_type": "code",
   "execution_count": 47,
   "metadata": {},
   "outputs": [
    {
     "name": "stdout",
     "output_type": "stream",
     "text": [
      "akash please take your poll\n"
     ]
    }
   ],
   "source": [
    "favorite_teams ={\n",
    "    'kumar':'mi',\n",
    "    'karthi': 'csk',\n",
    "    'kavya':'rcb',\n",
    "    'pant':'dc',\n",
    "    'sai':'gt'\n",
    "    }\n",
    "if 'akash' not in favorite_teams.keys():\n",
    "     print(\"akash please take your poll\")\n",
    "    "
   ]
  },
  {
   "cell_type": "code",
   "execution_count": null,
   "metadata": {},
   "outputs": [],
   "source": []
  },
  {
   "cell_type": "markdown",
   "metadata": {},
   "source": []
  },
  {
   "cell_type": "code",
   "execution_count": null,
   "metadata": {},
   "outputs": [],
   "source": []
  },
  {
   "cell_type": "code",
   "execution_count": null,
   "metadata": {},
   "outputs": [],
   "source": []
  },
  {
   "cell_type": "code",
   "execution_count": null,
   "metadata": {},
   "outputs": [],
   "source": []
  },
  {
   "cell_type": "code",
   "execution_count": null,
   "metadata": {},
   "outputs": [],
   "source": []
  },
  {
   "cell_type": "markdown",
   "metadata": {},
   "source": []
  }
 ],
 "metadata": {
  "kernelspec": {
   "display_name": "Python 3",
   "language": "python",
   "name": "python3"
  },
  "language_info": {
   "codemirror_mode": {
    "name": "ipython",
    "version": 3
   },
   "file_extension": ".py",
   "mimetype": "text/x-python",
   "name": "python",
   "nbconvert_exporter": "python",
   "pygments_lexer": "ipython3",
   "version": "3.10.12"
  }
 },
 "nbformat": 4,
 "nbformat_minor": 2
}
