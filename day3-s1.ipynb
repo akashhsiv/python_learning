{
 "cells": [
  {
   "cell_type": "markdown",
   "metadata": {},
   "source": [
    "### operators"
   ]
  },
  {
   "cell_type": "code",
   "execution_count": null,
   "metadata": {},
   "outputs": [],
   "source": [
    "#operators had to perform operations an variables and values.\n",
    "\n",
    "#arithmetic operators   (maths functions)\n",
    "#   +,-,*,/,%,**,//\n",
    "\n",
    "\n",
    "#assigment operators    (functions that had equals in it =)\n",
    "\n",
    "#   =,+=,-=,*=,/=,%=,**=\n",
    "\n",
    "#comparison operators    (its compares two values)\n",
    "#  ==,<,>,<=,>=\n",
    "\n",
    "#logical operatos\n",
    "\n",
    "#   and or not\n",
    "\n",
    "#identity operator\n",
    "#  is, is not       (checks the memory location of left or right value)\n",
    "\n",
    "\n",
    "#membership operator\n",
    "#  in, not      (checks the value is in the variable or not)"
   ]
  },
  {
   "cell_type": "markdown",
   "metadata": {},
   "source": [
    "### list"
   ]
  },
  {
   "cell_type": "code",
   "execution_count": 24,
   "metadata": {},
   "outputs": [
    {
     "name": "stdout",
     "output_type": "stream",
     "text": [
      "ash\n",
      "anish\n",
      "['ash', 'viky', 'sai']\n",
      "['viky', 'sai', 'pant', 'anish']\n",
      "['ash', 'don', 'sai', 'pant', 'anish']\n",
      "['kholi', 'sai', 'pant', 'anish']\n",
      "['kholi', 'sai', 'pant', 'anish', 'rohit']\n",
      "['hello', 'kholi', 'sai', 'pant', 'anish', 'rohit']\n",
      "['hello', 'kholi', 'sai', 'pant', 'anish', 'rohit', 'lap', 'monitor']\n",
      "['kholi', 'sai', 'pant', 'anish', 'rohit', 'lap', 'monitor']\n",
      "['kholi', 'sai', 'pant', 'rohit', 'lap', 'monitor']\n",
      "['kholi', 'sai', 'pant', 'rohit', 'monitor']\n",
      "[]\n"
     ]
    }
   ],
   "source": [
    "#list is used to store multiple variable in a single item []\n",
    "\n",
    "#the list is  ordered, mutable, allowes duplicate\n",
    "\n",
    "\n",
    "lst=['ash','viky','sai','pant','anish']\n",
    "print(lst[0])  #ash\n",
    "print(lst[-1])   #anish\n",
    "print(lst[:3])   #ash,viky,sai\n",
    "print(lst[1:])   #viky,sai,pant,anish\n",
    "\n",
    "\n",
    "\n",
    "#change in item value\n",
    "lst[1]='don'\n",
    "print(lst) #['ash', 'don', 'sai', 'pant', 'anish']\n",
    "lst[0:2]=['kholi']\n",
    "print(lst)  #['k', 'h', 'o', 'l', 'i', 'sai', 'pant', 'anish']\n",
    "\n",
    "#append\n",
    "lst.append(\"rohit\")\n",
    "print(lst)   #['k', 'h', 'o', 'l', 'i', 'sai', 'pant', 'anish', 'rohit']\n",
    "\n",
    "#insert\n",
    "lst.insert(0,'hello')\n",
    "print(lst)   #['hello', 'k', 'h', 'o', 'l', 'i', 'sai', 'pant', 'anish', 'rohit']\n",
    "\n",
    "\n",
    "#list.extend   (extend method does not have to append list, we can add any iterable object like (tuple, set,dict)\n",
    "lit=['lap','monitor']\n",
    "lst.extend(lit)\n",
    "print(lst)\n",
    "\n",
    "#list.remove     #removeonly first item in a duplicate \n",
    "lst.remove('hello')\n",
    "print(lst) #'k', 'h', 'o', 'l', 'i', 'sai', 'pant', 'anish', 'rohit', 'lap', 'monitor']\n",
    "\n",
    "lst.pop(3)  #if you dont put input defaultly removes the last\n",
    "print(lst)  #'k', 'h', 'o', 'i', 'sai', 'pant', 'anish', 'rohit', 'lap', 'monitor']\n",
    "\n",
    "del lst[4] #delete the item iin the list\n",
    "print(lst) #['k', 'h', 'o', 'i', 'sai', 'pant', 'rohit', 'lap', 'monitor']\n",
    "\n",
    "lst.clear() #clears the list\n",
    "print(lst)"
   ]
  },
  {
   "cell_type": "markdown",
   "metadata": {},
   "source": [
    "### list looping"
   ]
  },
  {
   "cell_type": "code",
   "execution_count": 29,
   "metadata": {},
   "outputs": [
    {
     "name": "stdout",
     "output_type": "stream",
     "text": [
      "ash\n",
      "don\n",
      "sai\n",
      "pant\n",
      "anish\n",
      "ash\n",
      "don\n",
      "sai\n",
      "pant\n",
      "anish\n",
      "anish\n",
      "pant\n",
      "sai\n",
      "don\n",
      "ash\n"
     ]
    }
   ],
   "source": [
    "lst=['ash', 'don', 'sai', 'pant', 'anish']\n",
    "for i in lst:\n",
    "    print(i)  #ash\n",
    "#don\n",
    "#pant\n",
    "#anish\n",
    "\n",
    "\n",
    "#using range\n",
    "for i in range(len(lst)):\n",
    "    print(lst[i]) \n",
    "\n",
    "\n",
    "#for reverse\n",
    "\n",
    "for i in range(len(lst)-1,-1,-1):   #start,step,stop\n",
    "    print(lst[i])  #output is reversed\n",
    "\n",
    "\n",
    "#useing while\n",
    "lst=['ash', 'don', 'sai', 'pant', 'anish'] #output reversed\n",
    "i=0\n",
    "while i>len(lst):\n",
    "    print(lst[i])\n",
    "    i+=1"
   ]
  },
  {
   "cell_type": "markdown",
   "metadata": {},
   "source": [
    "### list comprehension"
   ]
  },
  {
   "cell_type": "code",
   "execution_count": 32,
   "metadata": {},
   "outputs": [
    {
     "name": "stdout",
     "output_type": "stream",
     "text": [
      "['apple', 'ball', 'cat']\n"
     ]
    }
   ],
   "source": [
    "#syntax = newlist = [expression for item in iterable if condition == True\n",
    "lst=['apple', 'ball', 'cat', 'dog','phone']     #'apple', 'ball', 'cat']\n",
    "lst=[i  for i in lst  if \"a\" in i]\n",
    "print(lst)"
   ]
  },
  {
   "cell_type": "code",
   "execution_count": 1,
   "metadata": {},
   "outputs": [
    {
     "name": "stdout",
     "output_type": "stream",
     "text": [
      "['ash', 'dpk', 'siva', 'viky']\n",
      "['viky', 'siva', 'dpk', 'ash']\n",
      "['viky', 'siva', 'dpk', 'ash']\n",
      "['ash', 'dpk', 'siva', 'viky']\n",
      "['ash', 'dpk', 'siva', 'viky']\n",
      "['ash', 'dpk', 'siva', 'viky']\n"
     ]
    }
   ],
   "source": [
    "\n",
    "#sort\n",
    "lst=['ash', 'siva', 'dpk','viky']    #'ash', 'dpk', 'siva', 'viky']\n",
    "list.sort(lst)\n",
    "print(lst)\n",
    "\n",
    "\n",
    "#for decending\n",
    "lst=['ash', 'dpk', 'siva', 'viky']    #['viky', 'siva', 'dpk', 'ash']\n",
    "lst.sort(reverse=True)\n",
    "print(lst)\n",
    "\n",
    "\n",
    "#short reverse  \n",
    "lst=['ash', 'dpk', 'siva', 'viky']    #'viky', 'siva', 'dpk', 'ash']\n",
    "lst.reverse()\n",
    "print(lst)\n",
    "\n",
    "#insensitive order\n",
    "lst.sort(key=str.upper)\n",
    "print(lst)\n",
    "\n",
    "\n",
    "\n",
    "\n",
    "#copy list\n",
    "n_lst=lst.copy()\n",
    "print(n_lst)\n",
    "\n",
    "#another   method       both has same output\n",
    "\n",
    "n_lst=list(lst)\n",
    "print(n_lst)"
   ]
  },
  {
   "cell_type": "code",
   "execution_count": 50,
   "metadata": {},
   "outputs": [
    {
     "name": "stdout",
     "output_type": "stream",
     "text": [
      "['ash', 'ak', 'lap', 'top']\n",
      "['ash', 'ak', 'lap', 'top']\n",
      "['ash', 'ak', 'lap', 'top', 'lap', 'top']\n"
     ]
    }
   ],
   "source": [
    "\n",
    "#joining the list      #ash,ak,lap,top\n",
    "lst=['ash','ak']\n",
    "n_lst=['lap','top']\n",
    "book=(lst+n_lst)\n",
    "print(book)\n",
    "\n",
    "#another method\n",
    "for x in n_lst:\n",
    "    lst.append(x)\n",
    "print(lst)\n",
    "\n",
    "\n",
    "lst.extend(n_lst)\n",
    "print(lst)"
   ]
  },
  {
   "cell_type": "code",
   "execution_count": 3,
   "metadata": {},
   "outputs": [
    {
     "name": "stdout",
     "output_type": "stream",
     "text": [
      "['ash', 'dpk', 'Siva', 'viky']\n"
     ]
    }
   ],
   "source": [
    "lst=['ash', 'dpk', 'Siva', 'viky']    #'viky', 'siva', 'dpk', 'ash']\n",
    "\n",
    "\n",
    "lst.sort(key=str.lower)\n",
    "print(lst)\n",
    "\n"
   ]
  },
  {
   "cell_type": "code",
   "execution_count": 9,
   "metadata": {},
   "outputs": [
    {
     "data": {
      "text/plain": [
       "['ASH', 'DPK', 'SIVA', 'VIKY']"
      ]
     },
     "execution_count": 9,
     "metadata": {},
     "output_type": "execute_result"
    }
   ],
   "source": [
    "lst=['ash', 'dpk', 'siva', 'viky']    #'viky', 'siva', 'dpk', 'ash']\n",
    "\n",
    "lst = [ i.upper() for i in lst]  \n",
    "\n",
    "\n",
    "lst"
   ]
  },
  {
   "cell_type": "markdown",
   "metadata": {},
   "source": []
  },
  {
   "cell_type": "code",
   "execution_count": 13,
   "metadata": {},
   "outputs": [
    {
     "name": "stdout",
     "output_type": "stream",
     "text": [
      "ASH\n",
      "DPK\n",
      "SIVA\n",
      "VIKY\n"
     ]
    }
   ],
   "source": [
    "l = ['ASH', 'DPK', 'SIVA', 'VIKY']\n",
    "i=0\n",
    "while i < len(l):\n",
    "    print(l[i])\n",
    "    i+=1\n"
   ]
  },
  {
   "cell_type": "code",
   "execution_count": 20,
   "metadata": {},
   "outputs": [
    {
     "name": "stdout",
     "output_type": "stream",
     "text": [
      "ash\n",
      "dpk\n",
      "siva\n",
      "viky\n",
      "['ash', 'dpk', 'siva', 'viky']\n"
     ]
    }
   ],
   "source": [
    "l=['ASH', 'DPK', 'SIVA', 'VIKY']\n",
    "\n",
    "for i in l:\n",
    "    print(i.lower())\n",
    "\n",
    "\n",
    "l =[ i.lower() for i in l ]\n",
    "print(l)\n",
    "\n"
   ]
  },
  {
   "cell_type": "code",
   "execution_count": null,
   "metadata": {},
   "outputs": [],
   "source": []
  }
 ],
 "metadata": {
  "kernelspec": {
   "display_name": "Python 3",
   "language": "python",
   "name": "python3"
  },
  "language_info": {
   "codemirror_mode": {
    "name": "ipython",
    "version": 3
   },
   "file_extension": ".py",
   "mimetype": "text/x-python",
   "name": "python",
   "nbconvert_exporter": "python",
   "pygments_lexer": "ipython3",
   "version": "3.10.12"
  }
 },
 "nbformat": 4,
 "nbformat_minor": 2
}
