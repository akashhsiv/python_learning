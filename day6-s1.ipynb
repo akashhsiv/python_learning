{
 "cells": [
  {
   "cell_type": "markdown",
   "id": "272e8c13-d04e-4366-96f2-6f5766f2ee2a",
   "metadata": {},
   "source": [
    "### while loop, for loop\n"
   ]
  },
  {
   "cell_type": "markdown",
   "id": "437170f7-2cf9-4eaa-8a7e-2e0e3dd03890",
   "metadata": {},
   "source": [
    "### while loop, for loop\n"
   ]
  },
  {
   "cell_type": "code",
   "execution_count": 4,
   "id": "82c11e4f-b52a-41f6-ba36-cec647cd53dc",
   "metadata": {},
   "outputs": [
    {
     "name": "stdout",
     "output_type": "stream",
     "text": [
      "0\n",
      "1\n",
      "2\n",
      "3\n",
      "4\n",
      "5\n",
      "6\n",
      "7\n",
      "8\n",
      "9\n",
      "0\n",
      "1\n",
      "2\n",
      "3\n",
      "4\n",
      "0\n",
      "1\n",
      "2\n",
      "3\n",
      "4\n",
      "5\n",
      "6\n",
      "7\n",
      "8\n",
      "9\n",
      "10\n"
     ]
    }
   ],
   "source": [
    "#while loop\n",
    "i=0\n",
    "while i<10:\n",
    "    print(i)\n",
    "    i+=1\n",
    "\n",
    "\n",
    "i=0\n",
    "while i<5:\n",
    "    print(i)\n",
    "    i+=1\n",
    "\n",
    "#flag method\n",
    "\n",
    "Flag=True\n",
    "i=0\n",
    "while Flag:\n",
    "    print(i)\n",
    "    if i==10:\n",
    "        Flag=False\n",
    "    i+=1"
   ]
  },
  {
   "cell_type": "code",
   "execution_count": 3,
   "id": "c569abf8-0912-48ce-a618-406f91d640c6",
   "metadata": {},
   "outputs": [
    {
     "name": "stdout",
     "output_type": "stream",
     "text": [
      "0\n",
      "1\n",
      "2\n",
      "3\n",
      "4\n",
      "5\n",
      "6\n",
      "7\n",
      "8\n",
      "9\n",
      "10\n"
     ]
    }
   ],
   "source": [
    "i=0\n",
    "while True:\n",
    "    print(i)\n",
    "    if i==10:\n",
    "        break\n",
    "    i+=1"
   ]
  },
  {
   "cell_type": "code",
   "execution_count": 6,
   "id": "765c5483-7993-48ec-a5e0-905e9c971a9c",
   "metadata": {},
   "outputs": [
    {
     "name": "stdout",
     "output_type": "stream",
     "text": [
      "apple\n",
      "apple\n",
      "ball\n",
      "cat\n",
      "cat\n",
      "dog\n",
      "dog\n"
     ]
    }
   ],
   "source": [
    "#for loop\n",
    "\n",
    "fruiths =[\"apple\",\"ball\",\"cat\",\"dog\"]\n",
    "for x in fruiths:\n",
    "    print(x)\n",
    "    if x==\"ball\":\n",
    "        continue\n",
    "    print(x)"
   ]
  },
  {
   "cell_type": "code",
   "execution_count": 7,
   "id": "a65881fb-d7e6-4956-b073-afde28b4b31c",
   "metadata": {},
   "outputs": [
    {
     "name": "stdout",
     "output_type": "stream",
     "text": [
      "2\n",
      "5\n",
      "8\n",
      "11\n",
      "14\n",
      "17\n",
      "20\n",
      "23\n",
      "26\n",
      "29\n"
     ]
    }
   ],
   "source": [
    "for x in range(2,30,3):\n",
    "    print(x)"
   ]
  },
  {
   "cell_type": "code",
   "execution_count": 11,
   "id": "1eb5dfb9-7630-4f93-bed1-fa4601452a8d",
   "metadata": {},
   "outputs": [
    {
     "name": "stdout",
     "output_type": "stream",
     "text": [
      "0\n",
      "1\n",
      "2\n",
      "3\n",
      "4\n",
      "5\n",
      "finally finished\n"
     ]
    }
   ],
   "source": [
    "for x in range(6):\n",
    "    if x==6:\n",
    "        break\n",
    "    print(x)\n",
    "else:\n",
    "    print(\"finally finished\")"
   ]
  },
  {
   "cell_type": "code",
   "execution_count": 1,
   "id": "4ab626ee-ea32-4a45-8864-6bc521bcbb81",
   "metadata": {},
   "outputs": [
    {
     "name": "stdout",
     "output_type": "stream",
     "text": [
      "apple\n",
      "ball\n",
      "cat\n",
      "dog\n"
     ]
    }
   ],
   "source": [
    "ruiths =[\"apple\",\"ball\",\"cat\",\"dog\"]\n",
    "for x in range(len(ruiths)):\n",
    "    print(ruiths[x])"
   ]
  },
  {
   "cell_type": "code",
   "execution_count": 18,
   "id": "d66a6358-6e04-44a7-a980-0f57267a339a",
   "metadata": {},
   "outputs": [
    {
     "name": "stdout",
     "output_type": "stream",
     "text": [
      "hello\n",
      "ASh  hi\n",
      "lap  hi\n",
      "hello  hi\n"
     ]
    }
   ],
   "source": [
    "#functions\n",
    "#   function is a block of code which only runs when its called you can pass data known as parameters intoa functions a function can return data as a result\n",
    "\n",
    "def ash():\n",
    "    print(\"hello\")\n",
    "ash()\n",
    "\n",
    "def greet(fname):\n",
    "    print(fname+  \"  hi\")\n",
    "greet(\"ASh\")\n",
    "greet(\"lap\")\n",
    "greet(fname=\"hello\")"
   ]
  },
  {
   "cell_type": "code",
   "execution_count": 22,
   "id": "0bce0012-aff8-4d06-ba40-9aa4689c35b4",
   "metadata": {},
   "outputs": [
    {
     "name": "stdout",
     "output_type": "stream",
     "text": [
      "the youngest child is finus\n"
     ]
    }
   ],
   "source": [
    "#*args\n",
    "def name(*kids):\n",
    "    print(\"the youngest child is \" +kids[2])\n",
    "name(\"emil\",\"tobias\",\"finus\")\n",
    "\n"
   ]
  },
  {
   "cell_type": "code",
   "execution_count": 34,
   "id": "275187fc-da72-4f87-bbe2-2f01d198d50e",
   "metadata": {},
   "outputs": [
    {
     "name": "stdout",
     "output_type": "stream",
     "text": [
      "his last name is tafeson\n",
      "my favorite country is india\n",
      "my favorite country is australia\n",
      "my favorite country is norway\n",
      "7\n",
      "30\n"
     ]
    }
   ],
   "source": [
    "#**kwargs\n",
    "def name (**kids):\n",
    "    print(\"his last name is \"+ kids[\"lname\"])\n",
    "name(fname=\"tobias\", lname=\"tafeson\")\n",
    "\n",
    "\n",
    "\n",
    "def country(name=\"norway\"):\n",
    "    print(\"my favorite country is \"+ name)\n",
    "country(\"india\")\n",
    "country(\"australia\")\n",
    "country()\n",
    "\n",
    "def add(a,b):\n",
    "    return a+b\n",
    "a=add(1,6)\n",
    "print(a)\n",
    "\n",
    "\n",
    "print(add(10,20))"
   ]
  },
  {
   "cell_type": "code",
   "execution_count": 37,
   "id": "3ed6b650-3c20-4ab2-a011-337e08fd5ea2",
   "metadata": {},
   "outputs": [
    {
     "name": "stdout",
     "output_type": "stream",
     "text": [
      "15\n",
      "12\n"
     ]
    }
   ],
   "source": [
    "#lambda\n",
    "\n",
    "x=lambda a:a+10\n",
    "print(x(5))\n",
    "\n",
    "x=lambda a,b,c: a+b+c\n",
    "print(x(2,4,6))"
   ]
  },
  {
   "cell_type": "code",
   "execution_count": 11,
   "id": "b8785a54",
   "metadata": {},
   "outputs": [
    {
     "name": "stdout",
     "output_type": "stream",
     "text": [
      "Hello! JOHN\n"
     ]
    }
   ],
   "source": [
    "class Person:\n",
    "  def __init__(self, name: str, age: int):\n",
    "    self.name = name.upper()\n",
    "    self.age = age\n",
    "    \n",
    "  def greet(self):\n",
    "    print(f\"Hello! {self.name}\")\n",
    "  \n",
    "  def __str__(self):\n",
    "    return f\"this is a person instance of this data - > {self.name}({self.age})\"\n",
    "\n",
    "p1 = Person(\"John\", 36)\n",
    "\n",
    "p1.greet()\n"
   ]
  },
  {
   "cell_type": "code",
   "execution_count": 14,
   "id": "bc825407",
   "metadata": {},
   "outputs": [
    {
     "name": "stdout",
     "output_type": "stream",
     "text": [
      "Akash Siva\n"
     ]
    }
   ],
   "source": [
    "class Person:\n",
    "  def __init__(self, fname, lname):\n",
    "    self.firstname = fname\n",
    "    self.lastname = lname\n",
    "\n",
    "  def printname(self):\n",
    "    print(self.firstname, self.lastname)\n",
    "\n",
    "#Use the Person class to create an object, and then execute the printname method:\n",
    "class Student(Person):\n",
    "  pass\n",
    "\n",
    "s = Student(\"Akash\", \"Siva\")\n",
    "\n",
    "s.printname()\n"
   ]
  }
 ],
 "metadata": {
  "kernelspec": {
   "display_name": "Python 3 (ipykernel)",
   "language": "python",
   "name": "python3"
  },
  "language_info": {
   "codemirror_mode": {
    "name": "ipython",
    "version": 3
   },
   "file_extension": ".py",
   "mimetype": "text/x-python",
   "name": "python",
   "nbconvert_exporter": "python",
   "pygments_lexer": "ipython3",
   "version": "3.10.12"
  }
 },
 "nbformat": 4,
 "nbformat_minor": 5
}
