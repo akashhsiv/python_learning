user = (
    'username': 'efermi',
    'first': 'enrico',
    'last': 'fermi',
    )
for key, value in user_0_items();
    print(f"nkey): (key)")
    print(f"value: (value)")
