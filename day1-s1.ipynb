{
 "cells": [
  {
   "cell_type": "markdown",
   "metadata": {},
   "source": [
    "# **Python Day-1 S-1**"
   ]
  },
  {
   "cell_type": "code",
   "execution_count": 1,
   "metadata": {},
   "outputs": [
    {
     "name": "stdout",
     "output_type": "stream",
     "text": [
      "hello word\n"
     ]
    }
   ],
   "source": [
    "print(\"hello word\")"
   ]
  },
  {
   "cell_type": "markdown",
   "metadata": {},
   "source": [
    "### **Indentation**"
   ]
  },
  {
   "cell_type": "code",
   "execution_count": null,
   "metadata": {},
   "outputs": [],
   "source": [
    "if 5>2:\n",
    "    print(\" 5 is greater than 2\")\n",
    "else:\n",
    "    print(\"th e number is lower than 2\")\n",
    "##where indentation\n",
    "  #for conditional statements(if,else,elif)\n",
    "  #loops(for loop, while loop)\n",
    "  #try except finally\n",
    "  #context manager(with)\n",
    "  #classes and functions"
   ]
  },
  {
   "cell_type": "markdown",
   "metadata": {},
   "source": [
    "## python variables\n"
   ]
  },
  {
   "cell_type": "code",
   "execution_count": null,
   "metadata": {},
   "outputs": [],
   "source": [
    "#DATA VALUES\n",
    "x =5\n",
    "y =\"john\"\n",
    "print(x)\n",
    "print(y)\n",
    "\n",
    "#IF YOU WANT TO CHANGE THE TYPE OF VALUES IN VARIABLE YOU CAN DO\n",
    "\n",
    "x= str(3)\n",
    "y= int(3)\n",
    "z= float(3)\n",
    "\n",
    "#IF YOU WANT SEE THE TYPE OF VARIABLES YOU CAN DO LIKE THIS\n",
    "\n",
    "x=(5)\n",
    "y=\"john\"\n",
    "print(type(x))\n",
    "print(type(y))\n",
    "\n",
    "\n",
    "#STRING VARIABLE CAN BE DECLARED BY BOTH SINGLEQUOTES AND DOUBLE QUOTES\n",
    "X='john'\n",
    "y=\"john\"\n",
    "\n",
    "# A VARIABLE IN PYTHON IS CASE SENSTIVE\n",
    "\n",
    "a=5\n",
    "A='sally'\n",
    "print(a)\n",
    "print(A)\n"
   ]
  },
  {
   "cell_type": "markdown",
   "metadata": {},
   "source": [
    "###  python variable names\n"
   ]
  },
  {
   "cell_type": "code",
   "execution_count": null,
   "metadata": {},
   "outputs": [],
   "source": [
    "#LEGAL NAMES\n",
    "myvar=5\n",
    "_myvar=5\n",
    "my_var=5\n",
    "my9var=5\n",
    "myVar=5\n",
    "MYVAR=5\n",
    "\n",
    "#ILLEGAL NAMES \n",
    "2myvar=5\n",
    "my-var=5\n",
    "my var =5"
   ]
  },
  {
   "cell_type": "markdown",
   "metadata": {},
   "source": [
    "### diffrent cases"
   ]
  },
  {
   "cell_type": "code",
   "execution_count": null,
   "metadata": {},
   "outputs": [],
   "source": [
    "#camel Case\n",
    "    #each word except the first starts with capitsl letter\n",
    "#ex:\n",
    "#my Variable Name ='jhon'\n",
    "\n",
    "\n",
    "#Pascel Case\n",
    "    #each word starts with capital letter\n",
    "#ex\n",
    "#My Varibale Name ='jhon'\n",
    "\n",
    "#snake_case\n",
    "    #each word sperated by underscore(_)\n",
    "#ex\n",
    "#my_variable_name='jhon'"
   ]
  },
  {
   "cell_type": "markdown",
   "metadata": {},
   "source": [
    "### assigning multiple values"
   ]
  },
  {
   "cell_type": "code",
   "execution_count": 8,
   "metadata": {},
   "outputs": [
    {
     "name": "stdout",
     "output_type": "stream",
     "text": [
      "1 2 3\n",
      "5 5 5\n",
      "apple\n",
      "banana\n",
      "cherry\n",
      "1 2 3\n",
      "i am learning  python\n"
     ]
    }
   ],
   "source": [
    "x,y,z=1,2,3\n",
    "print(x,y,z)\n",
    "#output=1 2 3\n",
    "\n",
    "#assigning one value to  multiplee variables\n",
    "\n",
    "x=y=z=5\n",
    "print(x,y,z)\n",
    "#output=5 5 5\n",
    "\n",
    "\n",
    "#unpack variables\n",
    "fruits=['apple','banana', 'cherry']\n",
    "x,y,z=fruits\n",
    "print(x)\n",
    "print(y)\n",
    "print(z)\n",
    "#output = apple\n",
    "         #banana\n",
    "         #cherry\n",
    "\n",
    "#multiple variable in print\n",
    "x=1\n",
    "y=2\n",
    "z=3\n",
    "print(x,y,z)\n",
    "#output= 1 2 3\n",
    "\n",
    "#plus operator\n",
    "x=\"i am\"\n",
    "y=\" learning \"\n",
    "z=\" python\"\n",
    "print(x+y+z)\n",
    "#output= i am learning python\n",
    "\n",
    "#for numbers+ does addiction\n",
    "x=6\n",
    "y=7\n",
    "print(x+y)    \n",
    "#output= 13    (you can't add strings + int)\n"
   ]
  },
  {
   "cell_type": "markdown",
   "metadata": {},
   "source": [
    "### data types"
   ]
  },
  {
   "cell_type": "code",
   "execution_count": 18,
   "metadata": {},
   "outputs": [
    {
     "name": "stdout",
     "output_type": "stream",
     "text": [
      "1.0\n",
      "2\n",
      "(1+0j)\n"
     ]
    }
   ],
   "source": [
    "#str, int, bool,dict, set, tuple,set,float, list,range,none\n",
    "\n",
    "\n",
    "#PYTHON NUMBERS\n",
    "x=1 #int\n",
    "y=2.8 #float\n",
    "z= 1j #complex\n",
    "\n",
    "#TYPE CONVERSION\n",
    "#int to float\n",
    "a=float(x)\n",
    "print(a)\n",
    "#output 1.0\n",
    "\n",
    "#float to int\n",
    "b=int(y)\n",
    "print(b)\n",
    "#output = 2\n",
    "\n",
    "#int to complex\n",
    "c=complex(x)\n",
    "print(c)\n",
    "#output = (1+0j)\n",
    "\n",
    "#PYTHON CASTINGS IS ALSO SAME AS THIS\n"
   ]
  },
  {
   "cell_type": "markdown",
   "metadata": {},
   "source": []
  },
  {
   "cell_type": "markdown",
   "metadata": {},
   "source": []
  },
  {
   "cell_type": "markdown",
   "metadata": {},
   "source": []
  }
 ],
 "metadata": {
  "kernelspec": {
   "display_name": "Python 3",
   "language": "python",
   "name": "python3"
  },
  "language_info": {
   "codemirror_mode": {
    "name": "ipython",
    "version": 3
   },
   "file_extension": ".py",
   "mimetype": "text/x-python",
   "name": "python",
   "nbconvert_exporter": "python",
   "pygments_lexer": "ipython3",
   "version": "3.10.12"
  }
 },
 "nbformat": 4,
 "nbformat_minor": 2
}
