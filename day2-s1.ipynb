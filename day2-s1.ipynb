{
 "cells": [
  {
   "cell_type": "markdown",
   "metadata": {},
   "source": [
    "### strings\n",
    "\n"
   ]
  },
  {
   "cell_type": "code",
   "execution_count": 1,
   "metadata": {},
   "outputs": [
    {
     "name": "stdout",
     "output_type": "stream",
     "text": [
      "hello\n",
      "hello\n"
     ]
    }
   ],
   "source": [
    "#strigs in python is surronded by either '',\"\" marks\n",
    "\n",
    "print('hello')\n",
    "print(\"hello\")\n",
    "#both are same"
   ]
  },
  {
   "cell_type": "code",
   "execution_count": 2,
   "metadata": {},
   "outputs": [
    {
     "name": "stdout",
     "output_type": "stream",
     "text": [
      "hi my name is 'akash'\n",
      "it's alright\n",
      "my name is \"akash\"\n"
     ]
    }
   ],
   "source": [
    "#quotes inside quotes\n",
    "#you can use quotes inside the quotes as long s that  do'nt match each other\n",
    "\n",
    "print(\"hi my name is 'akash'\")\n",
    "print(\"it's alright\")\n",
    "print('my name is \"akash\"')\n",
    "\n",
    "#all are same"
   ]
  },
  {
   "cell_type": "code",
   "execution_count": null,
   "metadata": {},
   "outputs": [],
   "source": [
    "#multiple strings\n",
    "#you can assign multiline string  to an variable by assigning (\"\"\"  \"\"\"),('''  ''') like tgat\n",
    "#example\n",
    "print(\"\"\"a for apple\n",
    "      b for ball\n",
    "      c for cat\n",
    "      d for dog\"\"\")\n",
    "\n",
    "print('''a for apple\n",
    "      b for ball\n",
    "      c for cat\n",
    "      d for dog''')"
   ]
  },
  {
   "cell_type": "code",
   "execution_count": 3,
   "metadata": {},
   "outputs": [
    {
     "name": "stdout",
     "output_type": "stream",
     "text": [
      "h\n"
     ]
    }
   ],
   "source": [
    "#stirngs in arrays\n",
    "#accessing string element\n",
    "a=\"hello world\"\n",
    "print(a[0])  #output h"
   ]
  },
  {
   "cell_type": "code",
   "execution_count": 5,
   "metadata": {},
   "outputs": [
    {
     "name": "stdout",
     "output_type": "stream",
     "text": [
      "b\n",
      "a\n",
      "n\n",
      "a\n",
      "n\n",
      "a\n"
     ]
    }
   ],
   "source": [
    "#string looping\n",
    "for x in \"banana\":\n",
    "    print(x)\n",
    "    #\"\"\"b\n",
    "        a\n",
    "        n\n",
    "        a\n",
    "         n\n",
    "         a\"\"\""
   ]
  },
  {
   "cell_type": "code",
   "execution_count": 6,
   "metadata": {},
   "outputs": [
    {
     "name": "stdout",
     "output_type": "stream",
     "text": [
      "11\n"
     ]
    }
   ],
   "source": [
    "#string lenth\n",
    "#to get a length of a string we can use a len() function\n",
    "a=\"hello world\"\n",
    "print(len(a))  #11"
   ]
  },
  {
   "cell_type": "code",
   "execution_count": 10,
   "metadata": {},
   "outputs": [
    {
     "name": "stdout",
     "output_type": "stream",
     "text": [
      "True\n",
      "it exist\n",
      "False\n"
     ]
    }
   ],
   "source": [
    "#CHECK STRING\n",
    "#to check a certain pharse or character in a string we can use keyword (in)\n",
    "txt='the best thing in the life are free'\n",
    "print(\"free\"in txt) #true\n",
    "\n",
    "#withif\n",
    "if \"free\" in txt:\n",
    "    print(\"it exist\")\n",
    "else:\n",
    "    print(\"its not exist\")  #it exist\n",
    "\n",
    "\n",
    "#CHECK IF NOT\n",
    "print(\"expensive\" in txt) #false\n"
   ]
  },
  {
   "cell_type": "code",
   "execution_count": 19,
   "metadata": {},
   "outputs": [
    {
     "name": "stdout",
     "output_type": "stream",
     "text": [
      "he be\n",
      "the\n",
      "the world is free\n",
      "e\n",
      " is fre\n"
     ]
    }
   ],
   "source": [
    "#SLICING\n",
    "#it's using  start index and end inex sperated by  :  will give you a part of a string \n",
    "\n",
    "txt=\"the best thing in the world is free\"\n",
    "#type=1\n",
    "print(txt[1:6]) #he be  (   (space) is also a index)\n",
    "\n",
    "#type =2\n",
    "print(txt[:3]) #the (the last indext will be ignored)\n",
    "\n",
    "#type=3\n",
    "print(txt[18:]) #the world is free\n",
    "\n",
    "#type=4\n",
    "print(txt[-1]) #e -1 is revers index\n",
    "\n",
    "#type=5\n",
    "print(txt[-8:-1]) # is fre  \n"
   ]
  },
  {
   "cell_type": "code",
   "execution_count": 23,
   "metadata": {},
   "outputs": [
    {
     "name": "stdout",
     "output_type": "stream",
     "text": [
      "hellohey\n",
      "hello hey\n"
     ]
    }
   ],
   "source": [
    "#CONCATINATION\n",
    "#to concatinate or combine two stings you can use the + operator\n",
    "\n",
    "a='hello'\n",
    "b='hey'\n",
    "print(a+b)  #hellohey\n",
    "\n",
    "print((a+' ')+b)  #hello hey"
   ]
  },
  {
   "cell_type": "code",
   "execution_count": 29,
   "metadata": {},
   "outputs": [
    {
     "name": "stdout",
     "output_type": "stream",
     "text": [
      "my name is ash, i am 21 year old\n"
     ]
    }
   ],
   "source": [
    "#string formating\n",
    "\n",
    "#f strinh\n",
    "#   simply put a 'f' infront of a string and add  {}   to put variables inside\n",
    "\n",
    "name='ash'\n",
    "age=21\n",
    "txt=(f\"my name is {name}, i am {age} year old\")   \n",
    "print(txt)# my name is ash, i am 21 year old"
   ]
  },
  {
   "cell_type": "code",
   "execution_count": 31,
   "metadata": {},
   "outputs": [
    {
     "name": "stdout",
     "output_type": "stream",
     "text": [
      "we are the \"viking\" from the north\n"
     ]
    }
   ],
   "source": [
    "#escape character\n",
    "txt= \"we are the \\\"viking\\\" from the north\"\n",
    "print(txt) #we are the \"viking\" from the north   (using \\\"\"\\  to make another quotation)\n",
    "\n",
    "#\\n for new line\n",
    "#\\t for new tab\n"
   ]
  },
  {
   "cell_type": "code",
   "execution_count": 34,
   "metadata": {},
   "outputs": [
    {
     "name": "stdout",
     "output_type": "stream",
     "text": [
      "Akashsivakumar\n",
      "0\n",
      "0\n",
      "-1\n"
     ]
    },
    {
     "ename": "ValueError",
     "evalue": "substring not found",
     "output_type": "error",
     "traceback": [
      "\u001b[0;31m---------------------------------------------------------------------------\u001b[0m",
      "\u001b[0;31mValueError\u001b[0m                                Traceback (most recent call last)",
      "\u001b[0;32m/tmp/ipykernel_27018/2634222492.py\u001b[0m in \u001b[0;36m<module>\u001b[0;34m\u001b[0m\n\u001b[1;32m      5\u001b[0m \u001b[0mprint\u001b[0m\u001b[0;34m(\u001b[0m\u001b[0mname\u001b[0m\u001b[0;34m.\u001b[0m\u001b[0mindex\u001b[0m\u001b[0;34m(\u001b[0m\u001b[0;34m'a'\u001b[0m\u001b[0;34m)\u001b[0m\u001b[0;34m)\u001b[0m\u001b[0;34m\u001b[0m\u001b[0;34m\u001b[0m\u001b[0m\n\u001b[1;32m      6\u001b[0m \u001b[0mprint\u001b[0m\u001b[0;34m(\u001b[0m\u001b[0mname\u001b[0m\u001b[0;34m.\u001b[0m\u001b[0mfind\u001b[0m\u001b[0;34m(\u001b[0m\u001b[0;34m'e'\u001b[0m\u001b[0;34m)\u001b[0m\u001b[0;34m)\u001b[0m\u001b[0;34m\u001b[0m\u001b[0;34m\u001b[0m\u001b[0m\n\u001b[0;32m----> 7\u001b[0;31m \u001b[0mprint\u001b[0m\u001b[0;34m(\u001b[0m\u001b[0mname\u001b[0m\u001b[0;34m.\u001b[0m\u001b[0mindex\u001b[0m\u001b[0;34m(\u001b[0m\u001b[0;34m'e'\u001b[0m\u001b[0;34m)\u001b[0m\u001b[0;34m)\u001b[0m\u001b[0;34m\u001b[0m\u001b[0;34m\u001b[0m\u001b[0m\n\u001b[0m",
      "\u001b[0;31mValueError\u001b[0m: substring not found"
     ]
    }
   ],
   "source": [
    "#string methods\n",
    "name='akashsivakumar'\n",
    "print(name.capitalize()) #Akashsivakumar\n",
    "print(name.find('a'))  #0\n",
    "print(name.index('a')) #0\n",
    "print(name.find('e'))   #-1 (when the value is not found find gives the answer of -1)\n",
    "print(name.index('e'))  #error (when the value is not give the output of error)\n",
    "\n",
    "#name.strip()  removes the space\n",
    "#name.rstrip()  removes the space in right side\n",
    "#name.lstrip()  removes the space in left side\n",
    "#name.replace() replces the value that we want in bracket pass the old and new value to replace\n",
    "\n"
   ]
  },
  {
   "cell_type": "code",
   "execution_count": 36,
   "metadata": {},
   "outputs": [
    {
     "name": "stdout",
     "output_type": "stream",
     "text": [
      "True\n",
      "False\n",
      "True\n",
      "False\n",
      "a is greater than b\n"
     ]
    }
   ],
   "source": [
    "#BOOLEANS\n",
    "#booleans represent true or false\n",
    "\n",
    "print(9>8)  #true\n",
    "print(0>7) #false\n",
    "print(7==7) #true\n",
    "print(9==8) #false\n",
    "\n",
    "a=200\n",
    "b=30\n",
    "if a>b:\n",
    "    print(\"a is greater than b\")\n",
    "else:\n",
    "    print(\"b is greater than a\")\n",
    "    #a is greater than b"
   ]
  },
  {
   "cell_type": "code",
   "execution_count": null,
   "metadata": {},
   "outputs": [],
   "source": []
  },
  {
   "cell_type": "code",
   "execution_count": 11,
   "metadata": {},
   "outputs": [
    {
     "name": "stdout",
     "output_type": "stream",
     "text": [
      "ash\n",
      "vky\n",
      "siva\n",
      "sai\n"
     ]
    }
   ],
   "source": [
    "l = ['ash','vky', 'siva', 'sai']\n",
    "i = 0\n",
    "while i < len(l):\n",
    "    print(l[i])\n",
    "    i+=1\n",
    "    "
   ]
  },
  {
   "cell_type": "code",
   "execution_count": 17,
   "metadata": {},
   "outputs": [
    {
     "name": "stdout",
     "output_type": "stream",
     "text": [
      "['banana', 'cherry', 'Kiwi', 'Orange']\n"
     ]
    }
   ],
   "source": [
    "thislist = [\"banana\", \"Orange\", \"Kiwi\", \"cherry\"]\n",
    "thislist.sort(key=str.lower)\n",
    "print(thislist)"
   ]
  },
  {
   "cell_type": "code",
   "execution_count": null,
   "metadata": {},
   "outputs": [],
   "source": []
  }
 ],
 "metadata": {
  "kernelspec": {
   "display_name": "Python 3",
   "language": "python",
   "name": "python3"
  },
  "language_info": {
   "codemirror_mode": {
    "name": "ipython",
    "version": 3
   },
   "file_extension": ".py",
   "mimetype": "text/x-python",
   "name": "python",
   "nbconvert_exporter": "python",
   "pygments_lexer": "ipython3",
   "version": "3.10.12"
  }
 },
 "nbformat": 4,
 "nbformat_minor": 2
}
